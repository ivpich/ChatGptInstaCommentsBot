{
 "cells": [
  {
   "cell_type": "code",
   "execution_count": 42,
   "id": "eb802a73",
   "metadata": {
    "ExecuteTime": {
     "end_time": "2024-01-22T12:13:27.078277Z",
     "start_time": "2024-01-22T12:13:26.974495Z"
    }
   },
   "outputs": [],
   "source": [
    "import pandas as pd\n",
    "import numpy as np\n",
    "import pandas as pd\n",
    "from transformers import BertForSequenceClassification, AdamW\n",
    "from sklearn.metrics import accuracy_score, classification_report\n",
    "from sklearn.model_selection import train_test_split\n",
    "from transformers import BertTokenizer\n",
    "from torch.utils.data import DataLoader, TensorDataset\n",
    "import torch\n",
    "\n",
    "df = pd.read_excel('comments.xlsx')"
   ]
  },
  {
   "cell_type": "code",
   "execution_count": 43,
   "id": "9bca72ef",
   "metadata": {
    "ExecuteTime": {
     "end_time": "2024-01-22T12:13:27.133910Z",
     "start_time": "2024-01-22T12:13:27.130219Z"
    }
   },
   "outputs": [],
   "source": [
    "df.columns=['comment', 'label']\n",
    "df['comment'] = df.comment.apply(lambda x: str(x))\n",
    "df = df[df.comment.apply(lambda x: len(x)) <= 225]"
   ]
  },
  {
   "cell_type": "code",
   "execution_count": 56,
   "id": "bdc57871",
   "metadata": {
    "ExecuteTime": {
     "end_time": "2024-01-22T12:21:48.407918Z",
     "start_time": "2024-01-22T12:21:47.641143Z"
    }
   },
   "outputs": [],
   "source": [
    "train_texts, val_texts, train_labels, val_labels = train_test_split(df['comment'], df['label'], test_size=0.2)\n",
    "\n",
    "tokenizer = BertTokenizer.from_pretrained('bert-base-multilingual-cased')\n",
    "\n",
    "train_encodings = tokenizer(train_texts.tolist(), truncation=True, padding=True, max_length=225)\n",
    "val_encodings = tokenizer(val_texts.tolist(), truncation=True, padding=True, max_length=225)\n",
    "\n",
    "train_dataset = TensorDataset(\n",
    "    torch.tensor(train_encodings['input_ids']), \n",
    "    torch.tensor(train_encodings['attention_mask']), \n",
    "    torch.tensor(train_labels.values).long()\n",
    ")\n",
    "val_dataset = TensorDataset(\n",
    "    torch.tensor(val_encodings['input_ids']), \n",
    "    torch.tensor(val_encodings['attention_mask']), \n",
    "    torch.tensor(val_labels.values).long()\n",
    ")\n",
    "\n",
    "train_loader = DataLoader(train_dataset, batch_size=16, shuffle=True)\n",
    "val_loader = DataLoader(val_dataset, batch_size=16, shuffle=False)"
   ]
  },
  {
   "cell_type": "code",
   "execution_count": 57,
   "id": "ea9e1d6f",
   "metadata": {
    "ExecuteTime": {
     "end_time": "2024-01-22T12:28:10.899190Z",
     "start_time": "2024-01-22T12:21:49.683461Z"
    }
   },
   "outputs": [
    {
     "name": "stderr",
     "output_type": "stream",
     "text": [
      "Some weights of the model checkpoint at bert-base-multilingual-cased were not used when initializing BertForSequenceClassification: ['cls.predictions.transform.dense.bias', 'cls.predictions.bias', 'cls.seq_relationship.bias', 'cls.predictions.transform.LayerNorm.weight', 'cls.predictions.transform.dense.weight', 'cls.predictions.transform.LayerNorm.bias', 'cls.seq_relationship.weight']\n",
      "- This IS expected if you are initializing BertForSequenceClassification from the checkpoint of a model trained on another task or with another architecture (e.g. initializing a BertForSequenceClassification model from a BertForPreTraining model).\n",
      "- This IS NOT expected if you are initializing BertForSequenceClassification from the checkpoint of a model that you expect to be exactly identical (initializing a BertForSequenceClassification model from a BertForSequenceClassification model).\n",
      "Some weights of BertForSequenceClassification were not initialized from the model checkpoint at bert-base-multilingual-cased and are newly initialized: ['classifier.weight', 'classifier.bias']\n",
      "You should probably TRAIN this model on a down-stream task to be able to use it for predictions and inference.\n"
     ]
    }
   ],
   "source": [
    "model = BertForSequenceClassification.from_pretrained('bert-base-multilingual-cased', num_labels=2)\n",
    "\n",
    "optimizer = AdamW(model.parameters(), lr=2e-5)\n",
    "\n",
    "device = torch.device('cuda' if torch.cuda.is_available() else 'cpu')\n",
    "model.to(device)\n",
    "\n",
    "for epoch in range(3):\n",
    "    model.train()\n",
    "    for batch in train_loader:\n",
    "        batch = tuple(t.to(device) for t in batch)\n",
    "        inputs = {\n",
    "            'input_ids': batch[0], \n",
    "            'attention_mask': batch[1], \n",
    "            'labels': batch[2]\n",
    "        }\n",
    "\n",
    "        # Zero the parameter gradients\n",
    "        optimizer.zero_grad()\n",
    "\n",
    "        # Forward pass\n",
    "        outputs = model(**inputs)\n",
    "        loss = outputs.loss  # outputs.loss already accounts for the target format\n",
    "        loss.backward()\n",
    "        optimizer.step()"
   ]
  },
  {
   "cell_type": "code",
   "execution_count": null,
   "id": "4f28e0d7",
   "metadata": {},
   "outputs": [],
   "source": [
    "model.save_pretrained('./comments_reply_model')\n",
    "tokenizer.save_pretrained('./comments_tokenizer')"
   ]
  },
  {
   "cell_type": "code",
   "execution_count": 59,
   "id": "dde41b81",
   "metadata": {
    "ExecuteTime": {
     "end_time": "2024-01-22T12:29:04.922781Z",
     "start_time": "2024-01-22T12:29:04.914883Z"
    }
   },
   "outputs": [
    {
     "data": {
      "text/plain": [
       "1.0    1307\n",
       "0.0     579\n",
       "Name: label, dtype: int64"
      ]
     },
     "execution_count": 59,
     "metadata": {},
     "output_type": "execute_result"
    }
   ],
   "source": [
    "df.label.value_counts()"
   ]
  }
 ],
 "metadata": {
  "kernelspec": {
   "display_name": "Python 3",
   "language": "python",
   "name": "python3"
  },
  "language_info": {
   "codemirror_mode": {
    "name": "ipython",
    "version": 3
   },
   "file_extension": ".py",
   "mimetype": "text/x-python",
   "name": "python",
   "nbconvert_exporter": "python",
   "pygments_lexer": "ipython3",
   "version": "3.7.5"
  }
 },
 "nbformat": 4,
 "nbformat_minor": 5
}
